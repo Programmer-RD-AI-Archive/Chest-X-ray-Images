{
 "cells": [
  {
   "cell_type": "code",
   "execution_count": 1,
   "id": "bcfd373c-3bb0-4626-a5fe-34a2e20bad8b",
   "metadata": {},
   "outputs": [],
   "source": [
    "from torchvision.models import *\n",
    "import wandb\n",
    "from sklearn.model_selection import train_test_split\n",
    "import os,cv2\n",
    "import numpy as np\n",
    "import matplotlib.pyplot as plt\n",
    "from torch.nn import *\n",
    "import torch,torchvision\n",
    "from tqdm import tqdm\n",
    "device = 'cuda'\n",
    "PROJECT_NAME = 'Chest-X-ray-Images'"
   ]
  },
  {
   "cell_type": "code",
   "execution_count": 2,
   "id": "e435540e-2d65-41a3-9a80-718459b2d500",
   "metadata": {},
   "outputs": [],
   "source": [
    "def load_data():\n",
    "    data = []\n",
    "    labels = {}\n",
    "    labels_r = {}\n",
    "    idx = -1\n",
    "    for folder in tqdm(os.listdir('./data/')):\n",
    "        idx += 1\n",
    "        for file in os.listdir(f'./data/{folder}/')[:1250]:\n",
    "            img = cv2.imread(f'./data/{folder}/{file}')\n",
    "            img = cv2.resize(img,(112,112))\n",
    "            img = img / 255.0\n",
    "            data.append([img,idx])\n",
    "    X = []\n",
    "    y = []\n",
    "    for d in data:\n",
    "        X.append(d[0])\n",
    "        y.append(d[1])\n",
    "    X_train,X_test,y_train,y_test = train_test_split(X,y,test_size=0.125,shuffle=False)\n",
    "    X_train,X_test,y_train,y_test = train_test_split(X,y,test_size=0.25,shuffle=False)\n",
    "    X_train = torch.from_numpy(np.array(X_train)).to(device).view(-1,3,56,56).float()\n",
    "    y_train = torch.from_numpy(np.array(y_train)).to(device).float()\n",
    "    X_test = torch.from_numpy(np.array(X_test)).to(device).view(-1,3,56,56).float()\n",
    "    y_test = torch.from_numpy(np.array(y_test)).to(device).float()\n",
    "    return X,y,X_train,X_test,y_train,y_test,labels,labels_r,idx,data"
   ]
  },
  {
   "cell_type": "code",
   "execution_count": 3,
   "id": "8f546a97-12dd-45c0-902e-2e749cb5d6ba",
   "metadata": {},
   "outputs": [
    {
     "name": "stderr",
     "output_type": "stream",
     "text": [
      "100%|█████████████████████████████████████████████| 2/2 [00:27<00:00, 13.81s/it]\n"
     ]
    }
   ],
   "source": [
    "X,y,X_train,X_test,y_train,y_test,labels,labels_r,idx,data = load_data()"
   ]
  },
  {
   "cell_type": "code",
   "execution_count": 4,
   "id": "99c88811-f032-4ede-981d-b73ac2f69f74",
   "metadata": {},
   "outputs": [],
   "source": [
    "torch.save(X_train,'X_train.pt')\n",
    "torch.save(y_train,'y_train.pt')\n",
    "torch.save(X_test,'X_test.pt')\n",
    "torch.save(y_test,'y_test.pt')\n",
    "torch.save(labels_r,'labels_r.pt')\n",
    "torch.save(labels,'labels.pt')\n",
    "torch.save(X_train,'X_train.pth')\n",
    "torch.save(y_train,'y_train.pth')\n",
    "torch.save(X_test,'X_test.pth')\n",
    "torch.save(y_test,'y_test.pth')\n",
    "torch.save(labels_r,'labels_r.pth')\n",
    "torch.save(labels,'labels.pth')"
   ]
  },
  {
   "cell_type": "code",
   "execution_count": 5,
   "id": "408df083-c870-4323-a4b9-ca648c8d890b",
   "metadata": {},
   "outputs": [
    {
     "data": {
      "text/plain": [
       "2500"
      ]
     },
     "execution_count": 5,
     "metadata": {},
     "output_type": "execute_result"
    }
   ],
   "source": [
    "len(X)"
   ]
  },
  {
   "cell_type": "code",
   "execution_count": 6,
   "id": "4eddbb1c-8a69-4063-8fe4-37240c23b13c",
   "metadata": {},
   "outputs": [],
   "source": [
    "def get_loss(model,X,y,criterion):\n",
    "    preds = model(X)\n",
    "    loss = criterion(preds,y)\n",
    "    return loss.item()"
   ]
  },
  {
   "cell_type": "code",
   "execution_count": 7,
   "id": "cbe8bcb4-6254-4bcf-8f21-33a456c8a567",
   "metadata": {},
   "outputs": [],
   "source": [
    "def get_accuracy(model,X,y):\n",
    "    correct = 0\n",
    "    total = 0\n",
    "    preds = model(X)\n",
    "    for pred,yb in tqdm(zip(preds,y)):\n",
    "        pred = int(torch.round(pred))\n",
    "        yb = int(torch.round(yb))\n",
    "        if pred == yb:\n",
    "            correct += 1\n",
    "        total += 1\n",
    "    acc = round(correct/total,3)*100\n",
    "    return acc"
   ]
  },
  {
   "cell_type": "code",
   "execution_count": 8,
   "id": "ef53095c-9c4d-4805-a246-c51c34918730",
   "metadata": {},
   "outputs": [],
   "source": [
    "model = resnet18().to(device)"
   ]
  },
  {
   "cell_type": "code",
   "execution_count": 10,
   "id": "3c6ccdb6-ceb4-470b-8ec4-74b82858cd50",
   "metadata": {},
   "outputs": [],
   "source": [
    "model.fc = Linear(512,1)"
   ]
  },
  {
   "cell_type": "code",
   "execution_count": 11,
   "id": "1cad8d76-d610-4382-a8b6-d0d27a7b6626",
   "metadata": {},
   "outputs": [],
   "source": [
    "criterion = BCELoss()"
   ]
  },
  {
   "cell_type": "code",
   "execution_count": 13,
   "id": "e414b35d-493e-40e0-9008-48fb8afedb6a",
   "metadata": {},
   "outputs": [],
   "source": [
    "optimizer = torch.optim.Adam(model.parameters(),lr=0.001)"
   ]
  },
  {
   "cell_type": "code",
   "execution_count": 14,
   "id": "c26461d8-c776-4151-8dc2-acc49aa935f4",
   "metadata": {},
   "outputs": [],
   "source": [
    "batch_size = 32\n",
    "epochs = 100"
   ]
  },
  {
   "cell_type": "code",
   "execution_count": null,
   "id": "82fa2677-f7e5-44e1-abf5-8a7b024b6c2c",
   "metadata": {},
   "outputs": [],
   "source": [
    "wandb.init(project=PROJECT_NAME,name='baseline')\n",
    "for _ in tqdm(range(epochs)):\n",
    "    for i in range(0,len(X_train),batch_sizet):\n",
    "        X_batch = X_train[i:i+batch_size].to(device)\n",
    "        y_batch = y_train[i:i+batch_size].to(device)\n",
    "        preds = model(X_batch)\n",
    "        loss = criterion(preds,y_batch)\n",
    "        optimizer.zero_grad()\n",
    "        loss.backward()\n",
    "        optimizer.step()\n",
    "    model.eval()\n",
    "    torch.cuda.empty_cache()\n",
    "    wandb.log({'Loss':(get_loss(model,X_train,y_train,criterion)+get_loss(model,X_batch,y_batch,criterion))/2})\n",
    "    torch.cuda.empty_cache()\n",
    "    wandb.log({'Val Loss':get_loss(model,X_test,y_test,criterion)})\n",
    "    torch.cuda.empty_cache()\n",
    "    wandb.log({'Acc':(get_accuracy(model,X_train,y_train)+get_accuracy(model,X_batch,y_batch))/2})\n",
    "    torch.cuda.empty_cache()\n",
    "    wandb.log({'Val ACC':get_accuracy(model,X_test,y_test)})\n",
    "    torch.cuda.empty_cache()\n",
    "    model.train()\n",
    "wandb.finish()"
   ]
  }
 ],
 "metadata": {
  "kernelspec": {
   "display_name": "Python 3.7.3 64-bit ('base': conda)",
   "language": "python",
   "name": "python373jvsc74a57bd0210f9608a45c0278a93c9e0b10db32a427986ab48cfc0d20c139811eb78c4bbc"
  },
  "language_info": {
   "codemirror_mode": {
    "name": "ipython",
    "version": 3
   },
   "file_extension": ".py",
   "mimetype": "text/x-python",
   "name": "python",
   "nbconvert_exporter": "python",
   "pygments_lexer": "ipython3",
   "version": "3.7.11"
  }
 },
 "nbformat": 4,
 "nbformat_minor": 5
}
